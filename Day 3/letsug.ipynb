{
 "cells": [
  {
   "cell_type": "code",
   "execution_count": 9,
   "metadata": {},
   "outputs": [
    {
     "name": "stdout",
     "output_type": "stream",
     "text": [
      "Enter the first complex number:5+3j\n",
      "Enter the second complex number:6-2j\n",
      "Difference between the 2 entered complex numbers is:  (1-5j)\n"
     ]
    }
   ],
   "source": [
    "#1 Python program to subtract 2 complex numbers\n",
    "\n",
    "a=input(\"Enter the first complex number:\")\n",
    "b=input(\"Enter the second complex number:\")\n",
    "\n",
    "a=complex(a)\n",
    "b=complex(b)\n",
    "\n",
    "Difference=b-a    #we are subtracting first number from the second number\n",
    "print(\"Difference between the 2 entered complex numbers is: \", Difference)"
   ]
  },
  {
   "cell_type": "code",
   "execution_count": 21,
   "metadata": {},
   "outputs": [
    {
     "name": "stdout",
     "output_type": "stream",
     "text": [
      "Enter a number:625\n",
      "The fouth root of the entered number is:  5.0\n"
     ]
    }
   ],
   "source": [
    "#2 Python program to find the fourth root of a number\n",
    "\n",
    "import math\n",
    "\n",
    "num=int(input('Enter a number:'))\n",
    "#input a integer (if float number has to be entered typecast it to float())\n",
    "\n",
    "fr=math.pow(num,1/4)  #fr= fourth root\n",
    "print(\"The fouth root of the entered number is: \", fr)"
   ]
  },
  {
   "cell_type": "code",
   "execution_count": 29,
   "metadata": {},
   "outputs": [
    {
     "name": "stdout",
     "output_type": "stream",
     "text": [
      "Enter the first number:35\n",
      "Enter the second number:69\n",
      "Numbers before swapping:\n",
      "m =  35\n",
      "n =  69\n",
      "Numbers after swapping:\n",
      "m =  69\n",
      "n =  35\n"
     ]
    }
   ],
   "source": [
    "#3 Python program to swap two numbers using a temporary variable\n",
    "\n",
    "m=input(\"Enter the first number:\")\n",
    "n=input(\"Enter the second number:\")\n",
    "\n",
    "print(\"Numbers before swapping:\")\n",
    "print(\"m = \",m)\n",
    "print(\"n = \",n)\n",
    "\n",
    "temp=m\n",
    "m=n\n",
    "n=temp\n",
    "\n",
    "print(\"Numbers after swapping:\")\n",
    "print(\"m = \",m)\n",
    "print(\"n = \",n)"
   ]
  },
  {
   "cell_type": "code",
   "execution_count": 33,
   "metadata": {},
   "outputs": [
    {
     "name": "stdout",
     "output_type": "stream",
     "text": [
      "Enter the first number:2\n",
      "Enter the second number:3\n",
      "Numbers before swapping:\n",
      "m =  2\n",
      "n =  3\n",
      "Numbers after swapping:\n",
      "m =  3\n",
      "n =  2\n"
     ]
    }
   ],
   "source": [
    "#4 Python program to swap two numbers without using a temporary variable\n",
    "\n",
    "m=int(input(\"Enter the first number:\"))\n",
    "n=int(input(\"Enter the second number:\"))\n",
    "\n",
    "print(\"Numbers before swapping:\")\n",
    "print(\"m = \",m)\n",
    "print(\"n = \",n)\n",
    "\n",
    "m=m+n\n",
    "n=m-n\n",
    "m=m-n\n",
    "\n",
    "\n",
    "print(\"Numbers after swapping:\")\n",
    "print(\"m = \",m)\n",
    "print(\"n = \",n)\n"
   ]
  },
  {
   "cell_type": "code",
   "execution_count": 36,
   "metadata": {},
   "outputs": [
    {
     "name": "stdout",
     "output_type": "stream",
     "text": [
      "Enter the temperature in fahrenheit unit:233\n",
      "The temperature in celcius unit is:  111.66666666666667\n",
      "The temperature in kelvin unit is:  384.6666666666667\n"
     ]
    }
   ],
   "source": [
    "#5 Python program to convert fahrenheit to both kelvin and celcius\n",
    "\n",
    "f=float(input(\"Enter the temperature in fahrenheit unit:\"))\n",
    "\n",
    "# to convert to celcius, c\n",
    "c= (5/9)*(f-32)\n",
    "\n",
    "#using celcius kelvin can be found\n",
    "k=c+273\n",
    "\n",
    "print(\"The temperature in celcius unit is: \",c)\n",
    "print(\"The temperature in kelvin unit is: \",k)\n",
    "\n",
    "\n"
   ]
  },
  {
   "cell_type": "code",
   "execution_count": 56,
   "metadata": {},
   "outputs": [
    {
     "name": "stdout",
     "output_type": "stream",
     "text": [
      "<class 'int'>\n",
      "<class 'float'>\n",
      "<class 'str'>\n",
      "<class 'complex'>\n",
      "<class 'bool'>\n"
     ]
    }
   ],
   "source": [
    "#6 Program to demonstrate available data type in python\n",
    "\n",
    "a=2\n",
    "print(type(a))\n",
    "\n",
    "b=2.2\n",
    "print(type(b))\n",
    "\n",
    "c=\"Helloo folks Welcome to Lets upgrade community\"\n",
    "print(type(c))\n",
    "\n",
    "d=2+5j\n",
    "print(type(d))\n",
    "\n",
    "print(type(True)) #true or false data type is boolean "
   ]
  },
  {
   "cell_type": "code",
   "execution_count": null,
   "metadata": {},
   "outputs": [],
   "source": [
    "# Question 7: Steps discussed about github profile creation on day three \n",
    "\n",
    "#Step1: Create a github account or profile or Sign up to github using your mail-id and later sign in using the registered\n",
    "#mail-id and given password.\n",
    "#Step2: Create a folder Day n and save the .ipynb file in this folder after finishing the assignment (n= assignment given day).\n",
    "#Step3: Create a new repository and name it as LetsUpgrade AI-ML and keep it as public. \n",
    "#Step4: Click on uploading an existing file and drag and drop the day n folder file and click on commit changes.\n",
    "#Step5: Open the LetsUpgrade AI-ML repository and the day n file and copy the url of the .ipynb file\n",
    "#Step6: Then open the assignment submission link sent by LetsUpgrade and fill the required information.\n",
    "#Step6: Paste the copied github url in the form.\n",
    "#Step7: To check whether the url is visible to all paste the url in chrome and check whether the file is visible,\n",
    "#if visible, click on submit."
   ]
  },
  {
   "cell_type": "code",
   "execution_count": null,
   "metadata": {},
   "outputs": [],
   "source": []
  }
 ],
 "metadata": {
  "kernelspec": {
   "display_name": "Python 3",
   "language": "python",
   "name": "python3"
  },
  "language_info": {
   "codemirror_mode": {
    "name": "ipython",
    "version": 3
   },
   "file_extension": ".py",
   "mimetype": "text/x-python",
   "name": "python",
   "nbconvert_exporter": "python",
   "pygments_lexer": "ipython3",
   "version": "3.7.4"
  }
 },
 "nbformat": 4,
 "nbformat_minor": 2
}
