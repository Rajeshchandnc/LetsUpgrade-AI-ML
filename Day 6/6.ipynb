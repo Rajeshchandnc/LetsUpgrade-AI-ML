{
 "cells": [
  {
   "cell_type": "code",
   "execution_count": 10,
   "metadata": {},
   "outputs": [
    {
     "name": "stdout",
     "output_type": "stream",
     "text": [
      "Enter the Email address: Djokernole@yahoo.com\n",
      "yahoo\n"
     ]
    }
   ],
   "source": [
    "#Q1: Assuming that we have some email addresses in the \"username@companyname.com\" format, please write program\n",
    "#to print the company name of a given email address. Both user names and company names are composed of letters only\n",
    "\n",
    "\n",
    "adr= input(\"Enter the Email address: \")\n",
    "a= adr.index(\"@\")\n",
    "\n",
    "p= adr[a+1:len(adr)-4]\n",
    "print(p)"
   ]
  },
  {
   "cell_type": "code",
   "execution_count": 27,
   "metadata": {},
   "outputs": [
    {
     "name": "stdout",
     "output_type": "stream",
     "text": [
      "Enter the words separated by commas: Boo,abd,Abs,Zaina,lokesh,Spoo,raaj\n",
      "abd,Abs,Boo,lokesh,raaj,Spoo,Zaina"
     ]
    }
   ],
   "source": [
    "#Q2: Write a program that accepts a comma-separated sequence of words as input and prints the words in a comma\n",
    "#separated sequence after sorting them alphabetically.\n",
    "\n",
    "inp= input(\"Enter the words separated by commas: \").split(',')\n",
    "\n",
    "x=len(inp)\n",
    "\n",
    "op=sorted(inp, key = lambda s: s.casefold()) \n",
    "\n",
    "for i in range(0,x):\n",
    "    if i==x-1:\n",
    "        print(op[i],end='')\n",
    "    else:\n",
    "         print(op[i],end=',')\n",
    "        \n",
    "   "
   ]
  },
  {
   "cell_type": "code",
   "execution_count": 91,
   "metadata": {},
   "outputs": [
    {
     "name": "stdout",
     "output_type": "stream",
     "text": [
      "{'Nole', 'Rafa', 'Sharapova', 'Kerber', 'Ivanovic', 'Stan', 'Muzza', 'Wlliams', 'Roger', 'Wozniacki'}\n",
      "\n",
      "\n",
      "Nole\n",
      "Rafa\n",
      "Sharapova\n",
      "Kerber\n",
      "Ivanovic\n",
      "Stan\n",
      "Muzza\n",
      "Wlliams\n",
      "Roger\n",
      "Wozniacki\n",
      "\n",
      "\n",
      "{'Nole', 'Rafa', 'Sharapova', 'Muguroza', 'Kerber', 'Thiem', 'Ivanovic', 'Zverev', 'Azarenka', 'Stan', 'Muzza', 'Wlliams', 'Roger', 'Wozniacki'}\n",
      "\n",
      "\n",
      "14\n",
      "\n",
      "\n",
      "{'Nole', 'Rafa', 'Sharapova', 'Kerber', 'Thiem', 'Ivanovic', 'Azarenka', 'Stan', 'Muzza', 'Wlliams', 'Roger', 'Wozniacki'}\n",
      "\n",
      "\n",
      "12\n",
      "\n",
      "\n"
     ]
    }
   ],
   "source": [
    "#Q3: \"\"\"\"\"\"SETS\"\"\"\"\"\"\n",
    "\n",
    "#Set Creation:\n",
    "r={\"Rafa\",\"Roger\",\"Nole\",\"Muzza\",\"Stan\",\"Sharapova\",\"Wlliams\",\"Ivanovic\",\"Kerber\",\"Wozniacki\"}\n",
    "print(r)\n",
    "print(\"\\n\")\n",
    "\n",
    "#Accessing set items:\n",
    "for x in r:\n",
    "    print(x)\n",
    "print(\"\\n\")   \n",
    "\n",
    "# Adding new items to the set using add() and update()\n",
    "r.add(\"Thiem\")\n",
    "r.add(\"Muguroza\")    #add() is used to add only one item at a time\n",
    "\n",
    "r.update([\"Zverev\",\"Azarenka\"])  #uodate() is used to add multiple items\n",
    "print(r)\n",
    "print(\"\\n\")\n",
    "\n",
    "# To find the length of the set len() function is used\n",
    "\n",
    "print(len(r))\n",
    "print(\"\\n\")\n",
    "\n",
    "#To remove an element from the set we use remove(),discard() and pop() functions\n",
    "\n",
    "r.remove(\"Zverev\")\n",
    "r.discard(\"Muguroza\")\n",
    "print(r)\n",
    "print(\"\\n\")\n",
    "print(len(r))\n",
    "print(\"\\n\")"
   ]
  },
  {
   "cell_type": "code",
   "execution_count": 97,
   "metadata": {},
   "outputs": [
    {
     "name": "stdout",
     "output_type": "stream",
     "text": [
      "{'a', 'c', 'b'}\n",
      "\n",
      "\n",
      "set()\n",
      "\n",
      "\n",
      "{'a', 'b', 'c', '30', '20', '10'}\n"
     ]
    }
   ],
   "source": [
    "# \"\"SETS\"\"\n",
    "\n",
    "s={\"a\",\"b\",\"c\"}\n",
    "print(s)\n",
    "print(\"\\n\")\n",
    "\n",
    "#clear() empties the set but not delets the set\n",
    "s.clear()\n",
    "print(s)\n",
    "print(\"\\n\")\n",
    "\n",
    "#del completely deletes the set\n",
    "\n",
    "p={\"a\",\"b\",\"c\"}\n",
    "del p\n",
    "#print(p)   #p will not be defined because its already deleted\n",
    "\n",
    "# to join 2 sets union() or update() is used\n",
    "p={\"a\",\"b\",\"c\"}\n",
    "s={\"10\",\"20\",\"30\"}\n",
    "m=p.union(s)\n",
    "print(m)"
   ]
  },
  {
   "cell_type": "code",
   "execution_count": 82,
   "metadata": {},
   "outputs": [
    {
     "name": "stdout",
     "output_type": "stream",
     "text": [
      "Enter the numbers: 3 2 1 6 8 7 4\n",
      "The missing number is :  5\n"
     ]
    }
   ],
   "source": [
    "#Q4: Given a list of n-1 numbers ranging from 1 to n, your task is to find the missing number. There are no duplicates\n",
    "\n",
    "\n",
    "l=[]\n",
    "l=input(\"Enter the numbers: \").split(' ')\n",
    "n=len(l)\n",
    "o=[]\n",
    "o=sorted(l)\n",
    "\n",
    "\n",
    "for i in range(0,n):\n",
    "    if int(o[i])==i+1:\n",
    "        continue\n",
    "    else:\n",
    "        print(\"The missing number is : \",i+1)\n",
    "        break\n"
   ]
  },
  {
   "cell_type": "code",
   "execution_count": 83,
   "metadata": {},
   "outputs": [
    {
     "name": "stdout",
     "output_type": "stream",
     "text": [
      "Enter the numbers: 12 24 35 24 88 120 155 88 120 155\n",
      "12 24 35 24 88 120 "
     ]
    }
   ],
   "source": [
    "#Q5: With a given list L, write a program to print this list L after removing all duplicate values with original order reserved.\n",
    "\n",
    "l=[]\n",
    "l=input(\"Enter the numbers: \").split(' ')\n",
    "\n",
    "\n",
    "l2=[]\n",
    "for i in l:\n",
    "    if i not in l2:\n",
    "        l2.append(i)\n",
    "        \n",
    "for i in range(0,len(l2)):\n",
    "    print(l[i],end=' ')\n",
    "\n",
    "\n",
    "\n"
   ]
  },
  {
   "cell_type": "code",
   "execution_count": null,
   "metadata": {},
   "outputs": [],
   "source": []
  }
 ],
 "metadata": {
  "kernelspec": {
   "display_name": "Python 3",
   "language": "python",
   "name": "python3"
  },
  "language_info": {
   "codemirror_mode": {
    "name": "ipython",
    "version": 3
   },
   "file_extension": ".py",
   "mimetype": "text/x-python",
   "name": "python",
   "nbconvert_exporter": "python",
   "pygments_lexer": "ipython3",
   "version": "3.7.4"
  }
 },
 "nbformat": 4,
 "nbformat_minor": 2
}
