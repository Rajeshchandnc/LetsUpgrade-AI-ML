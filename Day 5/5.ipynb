{
 "cells": [
  {
   "cell_type": "code",
   "execution_count": 6,
   "metadata": {},
   "outputs": [
    {
     "name": "stdout",
     "output_type": "stream",
     "text": [
      "The first 20 non-even prime numbers are: \n",
      "3 5 7 11 13 17 19 23 29 31 37 41 43 47 53 59 61 67 71 73 "
     ]
    }
   ],
   "source": [
    "#Python program to find the first 20 non-even prime natural numbers.\n",
    "\n",
    "count=0\n",
    "print(\"The first 20 non-even prime numbers are: \")\n",
    "for n in range(3,100):\n",
    "    for i in range(2,n):\n",
    "        if n%i==0:\n",
    "            break\n",
    "    else:\n",
    "        print(n, end= ' ')\n",
    "        count=count+1\n",
    "    if count==20:\n",
    "        break"
   ]
  },
  {
   "cell_type": "code",
   "execution_count": 15,
   "metadata": {},
   "outputs": [
    {
     "name": "stdout",
     "output_type": "stream",
     "text": [
      "rafael nadal, champion !! @roland garros\n",
      "Rafael nadal, champion !! @roland garros\n",
      "False\n",
      "False\n",
      "True\n",
      "False\n",
      "False\n",
      "False\n",
      "9\n",
      "RAFAEL NADAL, CHAMPION !! @ROLAND GARROS\n",
      "rafael nadal, champion !! @roland garros\n",
      "                              Rafael Nadal, Champion !! @Roland Garros                              \n",
      "2\n",
      "7\n",
      "['Rafael Nadal, Champion ', '', ' @Roland Garros']\n"
     ]
    }
   ],
   "source": [
    "#Python program to implement 15 functions of string.\n",
    "\n",
    "stg=\"Rafael Nadal, Champion !! @Roland Garros\"\n",
    "\n",
    "print(stg.casefold())\n",
    "print(stg.capitalize())\n",
    "print(stg.isalnum())\n",
    "print(stg.isalpha())\n",
    "print(stg.isascii())\n",
    "print(stg.isdigit())\n",
    "print(stg.isdecimal())\n",
    "print(stg.startswith('r'))\n",
    "print(stg.find('da'))\n",
    "print(stg.upper())\n",
    "print(stg.lower())\n",
    "print(stg.center(100))\n",
    "print(stg.index('f'))\n",
    "print(stg.count('a'))\n",
    "print(stg.split('!'))"
   ]
  },
  {
   "cell_type": "code",
   "execution_count": 21,
   "metadata": {},
   "outputs": [
    {
     "name": "stdout",
     "output_type": "stream",
     "text": [
      "Enter the first string:lol\n",
      "Enter the second string:oll\n",
      "The string 1 is a Palindrome\n",
      "The strings are Anagrams.\n"
     ]
    }
   ],
   "source": [
    "# Python program to check if the given string is a Palindrome or Anagram or None of them.\n",
    "#Display the message accordingly to the user.\n",
    "\n",
    "s1 = input(\"Enter the first string:\")\n",
    "s2 = input(\"Enter the second string:\")\n",
    "s3 = s1[::-1]\n",
    "if(s1 == s3):\n",
    "    print(\"The string 1 is a Palindrome\")\n",
    "if(sorted(s1) == sorted(s2)):\n",
    "    print(\"The strings are Anagrams.\")\n",
    "elif():\n",
    "    print(\"The strings are neither Palindrome nor Anagrams.\")"
   ]
  },
  {
   "cell_type": "code",
   "execution_count": 24,
   "metadata": {},
   "outputs": [
    {
     "name": "stdout",
     "output_type": "stream",
     "text": [
      "Enter the string:Roger Federer Has won Eight !!!! Wimbeldon Titles% on @gras's\n",
      "rogerfedererhaswoneightwimbeldontitlesongrass\n"
     ]
    }
   ],
   "source": [
    "# Python's user defined function that removes all the additional characters from the string\n",
    "#and converts it finally to lower case using built-in lower().\n",
    "\n",
    "s = input(\"Enter the string:\")\n",
    "t = \"\"\n",
    "for i in s:\n",
    "    if(i.isalnum()):\n",
    "        t = t+i\n",
    "    \n",
    "new_string = t\n",
    "print(new_string.lower())"
   ]
  }
 ],
 "metadata": {
  "kernelspec": {
   "display_name": "Python 3",
   "language": "python",
   "name": "python3"
  },
  "language_info": {
   "codemirror_mode": {
    "name": "ipython",
    "version": 3
   },
   "file_extension": ".py",
   "mimetype": "text/x-python",
   "name": "python",
   "nbconvert_exporter": "python",
   "pygments_lexer": "ipython3",
   "version": "3.7.4"
  }
 },
 "nbformat": 4,
 "nbformat_minor": 2
}
