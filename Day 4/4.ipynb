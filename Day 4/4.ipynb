{
 "cells": [
  {
   "cell_type": "code",
   "execution_count": 9,
   "metadata": {},
   "outputs": [
    {
     "name": "stdout",
     "output_type": "stream",
     "text": [
      "Enter the first complex number: 3+2j\n",
      "Enter the second complex number: 4+5j\n",
      "Sum=(7+7j), Difference=(-1-3j), Product=(2+23j), Quotient=(0.5365853658536587-0.17073170731707318j)\n"
     ]
    }
   ],
   "source": [
    "#Research on whether addition, subtraction, multiplication, division, floor division and modulo\n",
    "#operations be performed on complex numbers. Based on your study, implement a Python\n",
    "#program to demonstrate these operations.\n",
    "\n",
    "#Addition, subtraction, multiplication, floor divison can be performed on complex numbers, \n",
    "#but modulo division cannot be performed\n",
    "\n",
    "#Python program to perform above operations on complex numbers\n",
    "\n",
    "a=input(\"Enter the first complex number: \")\n",
    "b=input(\"Enter the second complex number: \")\n",
    "a=complex(a)\n",
    "b=complex(b)\n",
    "\n",
    "add=a+b\n",
    "dif=a-b\n",
    "pro=a*b\n",
    "quo=a/b\n",
    "\n",
    "print(\"Sum={}, Difference={}, Product={}, Quotient={}\".format(add,dif,pro,quo))\n"
   ]
  },
  {
   "cell_type": "code",
   "execution_count": 14,
   "metadata": {},
   "outputs": [
    {
     "name": "stdout",
     "output_type": "stream",
     "text": [
      "Enter a number: 4\n",
      "Factorial of 4 is 24\n"
     ]
    }
   ],
   "source": [
    "#Research on range() functions and its parameters. Create a markdown cell and write in your own\n",
    "#words (no copy-paste from google please) what you understand about it. Implement a small\n",
    "#program of your choice on the same.\n",
    "\n",
    "# After going through some textbooks and websites i learnt that range() is a built in function in python which is used to generate sequence of numbers or used to control the repetition \n",
    "#times of the looping logic by specifying the number of times, upper limit(ul), lower limit(ll), step size(ss) etc..\n",
    "#eg. range(0,6,2) :ul=6, ll=0, ss=2\n",
    "#Above range function print numbers from 0 to 6 in step of 2 excluding 6 i.e 0,2,4\n",
    "\n",
    "#Python program using range() function to find the factorial of a number\n",
    "\n",
    "n=int(input(\"Enter a number: \"))\n",
    "\n",
    "fact=1\n",
    "\n",
    "for x in range(2,n+1):   #Here the value of x ranges from 2 to n+1 excluding n+1\n",
    "    fact=fact*x\n",
    "    \n",
    "print(\"Factorial of {} is {}\".format(n,fact))\n",
    "\n",
    "\n"
   ]
  },
  {
   "cell_type": "code",
   "execution_count": 10,
   "metadata": {},
   "outputs": [
    {
     "name": "stdout",
     "output_type": "stream",
     "text": [
      "Enter the first number: 58\n",
      "Enter the second number: 32\n",
      "Difference=  26\n",
      "Multiplication result=  1856\n"
     ]
    }
   ],
   "source": [
    "#Consider two numbers. Perform their subtraction and if the result of subtraction is greater than\n",
    "#25, print their multiplication result else print their division result.\n",
    "\n",
    "m=int(input(\"Enter the first number: \"))\n",
    "n=int(input(\"Enter the second number: \"))\n",
    "\n",
    "dif=m-n\n",
    "print(\"Difference= \",dif)\n",
    "if dif>25:\n",
    "    print(\"Multiplication result= \",m*n)\n",
    "\n",
    "else:\n",
    "    print(\"Division result= \",m/n)"
   ]
  },
  {
   "cell_type": "code",
   "execution_count": 11,
   "metadata": {},
   "outputs": [
    {
     "name": "stdout",
     "output_type": "stream",
     "text": [
      "Enter the elements of the list: \n",
      "1\n",
      "2\n",
      "3\n",
      "4\n",
      "5\n",
      "85\n",
      "96\n",
      "32\n",
      "36\n",
      "23\n",
      "The list is  [1, 2, 3, 4, 5, 85, 96, 32, 36, 23]\n",
      "\n",
      "\n",
      "square of 2 minus 2 is 2.0\n",
      "square of 4 minus 2 is 14.0\n",
      "square of 96 minus 2 is 9214.0\n",
      "square of 32 minus 2 is 1022.0\n",
      "square of 36 minus 2 is 1294.0\n"
     ]
    }
   ],
   "source": [
    "#Consider a list of 10 elements of integer values. If the number in the list is divisible by 2, print the\n",
    "#result as \"square of that number minus 2\".\n",
    "import math\n",
    "\n",
    "l=[]\n",
    "\n",
    "print(\"Enter the elements of the list: \")\n",
    "for i in range(0,10):\n",
    "    element=int(input())\n",
    "    l.append(element)\n",
    "\n",
    "print(\"The list is \",l)\n",
    "print(\"\\n\") \n",
    "for i in range(0,10):\n",
    "    if l[i]%2==0:\n",
    "        print(\"square of {} minus 2 is {}\".format(l[i],math.pow(l[i],2)-2))\n",
    "        \n",
    "\n",
    "\n"
   ]
  },
  {
   "cell_type": "code",
   "execution_count": 12,
   "metadata": {},
   "outputs": [
    {
     "name": "stdout",
     "output_type": "stream",
     "text": [
      "Enter the elements of the list: \n",
      "1\n",
      "2\n",
      "3\n",
      "16\n",
      "14\n",
      "32\n",
      "36\n",
      "122\n",
      "200\n",
      "321\n",
      "The list is  [1, 2, 3, 16, 14, 32, 36, 122, 200, 321]\n",
      "All the elements in the list which are greater than 7 when number is divided 2 are: \n",
      "16\n",
      "32\n",
      "36\n",
      "122\n",
      "200\n",
      "321\n"
     ]
    }
   ],
   "source": [
    "#Consider a list of 10 elements. Print all the elements in the list which are greater than 7 when that\n",
    "#number is divided by 2.\n",
    "\n",
    "l=[]\n",
    "\n",
    "print(\"Enter the elements of the list: \")\n",
    "for i in range(0,10):\n",
    "    element=int(input())\n",
    "    l.append(element)\n",
    "\n",
    "print(\"The list is \",l)\n",
    "\n",
    "print(\"All the elements in the list which are greater than 7 when number is divided 2 are: \")\n",
    "#i.e if the quotient is greater than 7 when divided by 2\n",
    "\n",
    "for i in range(0,10):\n",
    "    if (l[i]/2)>7:\n",
    "        print(l[i])\n"
   ]
  }
 ],
 "metadata": {
  "kernelspec": {
   "display_name": "Python 3",
   "language": "python",
   "name": "python3"
  },
  "language_info": {
   "codemirror_mode": {
    "name": "ipython",
    "version": 3
   },
   "file_extension": ".py",
   "mimetype": "text/x-python",
   "name": "python",
   "nbconvert_exporter": "python",
   "pygments_lexer": "ipython3",
   "version": "3.7.4"
  }
 },
 "nbformat": 4,
 "nbformat_minor": 2
}
